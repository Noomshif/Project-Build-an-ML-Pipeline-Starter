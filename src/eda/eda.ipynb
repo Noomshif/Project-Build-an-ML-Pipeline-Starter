{
 "cells": [
  {
   "cell_type": "code",
   "execution_count": 1,
   "id": "1f72a955",
   "metadata": {
    "scrolled": true,
    "tags": [],
    "ExecuteTime": {
     "end_time": "2024-04-18T03:11:36.480642Z",
     "start_time": "2024-04-18T03:09:03.474855Z"
    }
   },
   "outputs": [
    {
     "name": "stdout",
     "output_type": "stream",
     "text": [
      "Collecting wandb==0.13.9\r\n",
      "  Downloading wandb-0.13.9-py2.py3-none-any.whl.metadata (7.7 kB)\r\n",
      "Requirement already satisfied: Click!=8.0.0,>=7.0 in /opt/miniconda3/lib/python3.12/site-packages (from wandb==0.13.9) (8.1.7)\r\n",
      "Requirement already satisfied: GitPython>=1.0.0 in /opt/miniconda3/lib/python3.12/site-packages (from wandb==0.13.9) (3.1.43)\r\n",
      "Requirement already satisfied: requests<3,>=2.0.0 in /opt/miniconda3/lib/python3.12/site-packages (from wandb==0.13.9) (2.31.0)\r\n",
      "Requirement already satisfied: psutil>=5.0.0 in /opt/miniconda3/lib/python3.12/site-packages (from wandb==0.13.9) (5.9.8)\r\n",
      "Requirement already satisfied: sentry-sdk>=1.0.0 in /opt/miniconda3/lib/python3.12/site-packages (from wandb==0.13.9) (1.45.0)\r\n",
      "Requirement already satisfied: docker-pycreds>=0.4.0 in /opt/miniconda3/lib/python3.12/site-packages (from wandb==0.13.9) (0.4.0)\r\n",
      "Requirement already satisfied: PyYAML in /opt/miniconda3/lib/python3.12/site-packages (from wandb==0.13.9) (6.0.1)\r\n",
      "Collecting pathtools (from wandb==0.13.9)\r\n",
      "  Downloading pathtools-0.1.2.tar.gz (11 kB)\r\n",
      "  Preparing metadata (setup.py) ... \u001B[?25lerror\r\n",
      "  \u001B[1;31merror\u001B[0m: \u001B[1msubprocess-exited-with-error\u001B[0m\r\n",
      "  \r\n",
      "  \u001B[31m×\u001B[0m \u001B[32mpython setup.py egg_info\u001B[0m did not run successfully.\r\n",
      "  \u001B[31m│\u001B[0m exit code: \u001B[1;36m1\u001B[0m\r\n",
      "  \u001B[31m╰─>\u001B[0m \u001B[31m[6 lines of output]\u001B[0m\r\n",
      "  \u001B[31m   \u001B[0m Traceback (most recent call last):\r\n",
      "  \u001B[31m   \u001B[0m   File \"<string>\", line 2, in <module>\r\n",
      "  \u001B[31m   \u001B[0m   File \"<pip-setuptools-caller>\", line 34, in <module>\r\n",
      "  \u001B[31m   \u001B[0m   File \"/private/var/folders/kc/ltkbv4sn38n7btcjlp445qrc0000gn/T/pip-install-7pypw6xp/pathtools_669dcab3b8514004908fde6821923c89/setup.py\", line 25, in <module>\r\n",
      "  \u001B[31m   \u001B[0m     import imp\r\n",
      "  \u001B[31m   \u001B[0m ModuleNotFoundError: No module named 'imp'\r\n",
      "  \u001B[31m   \u001B[0m \u001B[31m[end of output]\u001B[0m\r\n",
      "  \r\n",
      "  \u001B[1;35mnote\u001B[0m: This error originates from a subprocess, and is likely not a problem with pip.\r\n",
      "\u001B[1;31merror\u001B[0m: \u001B[1mmetadata-generation-failed\u001B[0m\r\n",
      "\r\n",
      "\u001B[31m×\u001B[0m Encountered error while generating package metadata.\r\n",
      "\u001B[31m╰─>\u001B[0m See above for output.\r\n",
      "\r\n",
      "\u001B[1;35mnote\u001B[0m: This is an issue with the package mentioned above, not pip.\r\n",
      "\u001B[1;36mhint\u001B[0m: See above for details.\r\n",
      "\u001B[?25h\u001B[31mERROR: Ignored the following versions that require a different python version: 3.3.0 Requires-Python >=3.7, <3.11; 3.4.0 Requires-Python >=3.7, <3.11; 3.5.0 Requires-Python >=3.7, <3.11; 3.6.0 Requires-Python >=3.7, <3.11; 3.6.1 Requires-Python >=3.7, <3.11; 3.6.2 Requires-Python >=3.7, <3.11; 3.6.3 Requires-Python >=3.7, <3.11; 3.6.4 Requires-Python >=3.7, <3.11; 3.6.5 Requires-Python >=3.7, <3.11; 3.6.6 Requires-Python >=3.7, <3.11\u001B[0m\u001B[31m\r\n",
      "\u001B[0m\u001B[31mERROR: Could not find a version that satisfies the requirement pandas-profiling==3.6.2 (from versions: 3.0.0, 3.1.0, 3.2.0)\u001B[0m\u001B[31m\r\n",
      "\u001B[0m\u001B[31mERROR: No matching distribution found for pandas-profiling==3.6.2\u001B[0m\u001B[31m\r\n",
      "\u001B[0mCollecting pandas==1.2.3\r\n",
      "  Downloading pandas-1.2.3.tar.gz (5.5 MB)\r\n",
      "\u001B[2K     \u001B[90m━━━━━━━━━━━━━━━━━━━━━━━━━━━━━━━━━━━━━━━━\u001B[0m \u001B[32m5.5/5.5 MB\u001B[0m \u001B[31m15.2 MB/s\u001B[0m eta \u001B[36m0:00:00\u001B[0m00:01\u001B[0m00:01\u001B[0m\r\n",
      "\u001B[?25h  Installing build dependencies ... \u001B[?25ldone\r\n",
      "\u001B[?25h  Getting requirements to build wheel ... \u001B[?25ldone\r\n",
      "\u001B[?25h  Preparing metadata (pyproject.toml) ... \u001B[?25ldone\r\n",
      "\u001B[?25hRequirement already satisfied: python-dateutil>=2.7.3 in /opt/miniconda3/lib/python3.12/site-packages (from pandas==1.2.3) (2.9.0.post0)\r\n",
      "Requirement already satisfied: pytz>=2017.3 in /opt/miniconda3/lib/python3.12/site-packages (from pandas==1.2.3) (2024.1)\r\n",
      "Requirement already satisfied: numpy>=1.16.5 in /opt/miniconda3/lib/python3.12/site-packages (from pandas==1.2.3) (1.26.4)\r\n",
      "Requirement already satisfied: six>=1.5 in /opt/miniconda3/lib/python3.12/site-packages (from python-dateutil>=2.7.3->pandas==1.2.3) (1.16.0)\r\n",
      "Building wheels for collected packages: pandas\r\n",
      "  Building wheel for pandas (pyproject.toml) ... \u001B[?25ldone\r\n",
      "\u001B[?25h  Created wheel for pandas: filename=pandas-1.2.3-cp312-cp312-macosx_11_0_arm64.whl size=8681473 sha256=103ebe02c3b2971432cef3c0dc7126836102207f2cf8944564912c62bb9b3f3b\r\n",
      "  Stored in directory: /Users/emily/Library/Caches/pip/wheels/88/b9/50/eb770a6daed05fbd2aa7e4994d84af490190220ea8b3615a1a\r\n",
      "Successfully built pandas\r\n",
      "Installing collected packages: pandas\r\n",
      "  Attempting uninstall: pandas\r\n",
      "    Found existing installation: pandas 2.2.2\r\n",
      "    Uninstalling pandas-2.2.2:\r\n",
      "      Successfully uninstalled pandas-2.2.2\r\n",
      "Successfully installed pandas-1.2.3\r\n"
     ]
    }
   ],
   "source": [
    "!pip install wandb==0.13.9\n",
    "!pip install pandas-profiling==3.6.2\n",
    "!pip install pandas==1.2.3"
   ]
  },
  {
   "cell_type": "markdown",
   "id": "54c4f98a",
   "metadata": {},
   "source": [
    "1. Fetch the artifact we just created (sample.csv) from W&B and read it with pandas:"
   ]
  },
  {
   "cell_type": "code",
   "execution_count": 2,
   "id": "eed98c34",
   "metadata": {
    "ExecuteTime": {
     "end_time": "2024-04-18T03:14:14.339271Z",
     "start_time": "2024-04-18T03:14:10.931805Z"
    }
   },
   "outputs": [
    {
     "name": "stderr",
     "output_type": "stream",
     "text": [
      "/Users/emily/Library/Python/3.9/lib/python/site-packages/urllib3/__init__.py:34: NotOpenSSLWarning: urllib3 v2 only supports OpenSSL 1.1.1+, currently the 'ssl' module is compiled with 'LibreSSL 2.8.3'. See: https://github.com/urllib3/urllib3/issues/3020\n",
      "  warnings.warn(\n",
      "/Users/emily/Library/Python/3.9/lib/python/site-packages/urllib3/__init__.py:34: NotOpenSSLWarning: urllib3 v2 only supports OpenSSL 1.1.1+, currently the 'ssl' module is compiled with 'LibreSSL 2.8.3'. See: https://github.com/urllib3/urllib3/issues/3020\n",
      "  warnings.warn(\n",
      "\u001B[34m\u001B[1mwandb\u001B[0m: Currently logged in as: \u001B[33memolitor-cota\u001B[0m (\u001B[33memolitor\u001B[0m). Use \u001B[1m`wandb login --relogin`\u001B[0m to force relogin\n"
     ]
    },
    {
     "data": {
      "text/plain": "<IPython.core.display.HTML object>",
      "text/html": "Tracking run with wandb version 0.16.6"
     },
     "metadata": {},
     "output_type": "display_data"
    },
    {
     "data": {
      "text/plain": "<IPython.core.display.HTML object>",
      "text/html": "Run data is saved locally in <code>/Users/emily/PycharmProjects/MLpipeline/Project-Build-an-ML-Pipeline-Starter/src/eda/wandb/run-20240417_221412-n7o9xeen</code>"
     },
     "metadata": {},
     "output_type": "display_data"
    },
    {
     "data": {
      "text/plain": "<IPython.core.display.HTML object>",
      "text/html": "Syncing run <strong><a href='https://wandb.ai/emolitor/nyc_airbnb/runs/n7o9xeen' target=\"_blank\">denim-water-4</a></strong> to <a href='https://wandb.ai/emolitor/nyc_airbnb' target=\"_blank\">Weights & Biases</a> (<a href='https://wandb.me/run' target=\"_blank\">docs</a>)<br/>"
     },
     "metadata": {},
     "output_type": "display_data"
    },
    {
     "data": {
      "text/plain": "<IPython.core.display.HTML object>",
      "text/html": " View project at <a href='https://wandb.ai/emolitor/nyc_airbnb' target=\"_blank\">https://wandb.ai/emolitor/nyc_airbnb</a>"
     },
     "metadata": {},
     "output_type": "display_data"
    },
    {
     "data": {
      "text/plain": "<IPython.core.display.HTML object>",
      "text/html": " View run at <a href='https://wandb.ai/emolitor/nyc_airbnb/runs/n7o9xeen' target=\"_blank\">https://wandb.ai/emolitor/nyc_airbnb/runs/n7o9xeen</a>"
     },
     "metadata": {},
     "output_type": "display_data"
    }
   ],
   "source": [
    "import wandb\n",
    "import pandas as pd\n",
    "# Note that we use save_code=True in the call to wandb.init so the notebook is uploaded and versioned by W&B\n",
    "run = wandb.init(project=\"nyc_airbnb\", group=\"eda\", save_code=True)\n",
    "local_path = wandb.use_artifact(\"sample.csv:latest\").file()\n",
    "df = pd.read_csv(local_path)"
   ]
  },
  {
   "cell_type": "markdown",
   "id": "472b8c0d",
   "metadata": {},
   "source": [
    "2. Explore the data in df"
   ]
  },
  {
   "cell_type": "code",
   "execution_count": 3,
   "id": "e7902159",
   "metadata": {
    "ExecuteTime": {
     "end_time": "2024-04-18T03:14:54.759117Z",
     "start_time": "2024-04-18T03:14:54.715386Z"
    }
   },
   "outputs": [
    {
     "name": "stdout",
     "output_type": "stream",
     "text": [
      "<class 'pandas.core.frame.DataFrame'>\n",
      "RangeIndex: 20000 entries, 0 to 19999\n",
      "Data columns (total 16 columns):\n",
      " #   Column                          Non-Null Count  Dtype  \n",
      "---  ------                          --------------  -----  \n",
      " 0   id                              20000 non-null  int64  \n",
      " 1   name                            19993 non-null  object \n",
      " 2   host_id                         20000 non-null  int64  \n",
      " 3   host_name                       19992 non-null  object \n",
      " 4   neighbourhood_group             20000 non-null  object \n",
      " 5   neighbourhood                   20000 non-null  object \n",
      " 6   latitude                        20000 non-null  float64\n",
      " 7   longitude                       20000 non-null  float64\n",
      " 8   room_type                       20000 non-null  object \n",
      " 9   price                           20000 non-null  int64  \n",
      " 10  minimum_nights                  20000 non-null  int64  \n",
      " 11  number_of_reviews               20000 non-null  int64  \n",
      " 12  last_review                     15877 non-null  object \n",
      " 13  reviews_per_month               15877 non-null  float64\n",
      " 14  calculated_host_listings_count  20000 non-null  int64  \n",
      " 15  availability_365                20000 non-null  int64  \n",
      "dtypes: float64(3), int64(7), object(6)\n",
      "memory usage: 2.4+ MB\n"
     ]
    }
   ],
   "source": [
    "df.info()"
   ]
  },
  {
   "cell_type": "code",
   "execution_count": 4,
   "id": "ef6f1457",
   "metadata": {
    "ExecuteTime": {
     "end_time": "2024-04-18T03:14:57.650884Z",
     "start_time": "2024-04-18T03:14:57.601449Z"
    }
   },
   "outputs": [
    {
     "data": {
      "text/plain": "                 id       host_id      latitude     longitude         price  \\\ncount  2.000000e+04  2.000000e+04  20000.000000  20000.000000  20000.000000   \nmean   1.892380e+07  6.746034e+07     40.728455    -73.952125    153.269050   \nstd    1.101223e+07  7.857936e+07      0.054755      0.046559    243.325609   \nmin    2.539000e+03  2.571000e+03     40.508730    -74.239140      0.000000   \n25%    9.393540e+06  7.853718e+06     40.689420    -73.983030     69.000000   \n50%    1.952117e+07  3.111431e+07     40.722730    -73.955640    105.000000   \n75%    2.912936e+07  1.068426e+08     40.762990    -73.936380    175.000000   \nmax    3.648561e+07  2.742733e+08     40.913060    -73.717950  10000.000000   \n\n       minimum_nights  number_of_reviews  reviews_per_month  \\\ncount    20000.000000       20000.000000       15877.000000   \nmean         6.992100          23.274100           1.377446   \nstd         21.645449          44.927793           1.683006   \nmin          1.000000           0.000000           0.010000   \n25%          1.000000           1.000000           0.190000   \n50%          2.000000           5.000000           0.720000   \n75%          5.000000          23.000000           2.010000   \nmax       1250.000000         607.000000          27.950000   \n\n       calculated_host_listings_count  availability_365  \ncount                    20000.000000      20000.000000  \nmean                         6.955450        112.901200  \nstd                         32.433831        131.762226  \nmin                          1.000000          0.000000  \n25%                          1.000000          0.000000  \n50%                          1.000000         44.000000  \n75%                          2.000000        229.000000  \nmax                        327.000000        365.000000  ",
      "text/html": "<div>\n<style scoped>\n    .dataframe tbody tr th:only-of-type {\n        vertical-align: middle;\n    }\n\n    .dataframe tbody tr th {\n        vertical-align: top;\n    }\n\n    .dataframe thead th {\n        text-align: right;\n    }\n</style>\n<table border=\"1\" class=\"dataframe\">\n  <thead>\n    <tr style=\"text-align: right;\">\n      <th></th>\n      <th>id</th>\n      <th>host_id</th>\n      <th>latitude</th>\n      <th>longitude</th>\n      <th>price</th>\n      <th>minimum_nights</th>\n      <th>number_of_reviews</th>\n      <th>reviews_per_month</th>\n      <th>calculated_host_listings_count</th>\n      <th>availability_365</th>\n    </tr>\n  </thead>\n  <tbody>\n    <tr>\n      <th>count</th>\n      <td>2.000000e+04</td>\n      <td>2.000000e+04</td>\n      <td>20000.000000</td>\n      <td>20000.000000</td>\n      <td>20000.000000</td>\n      <td>20000.000000</td>\n      <td>20000.000000</td>\n      <td>15877.000000</td>\n      <td>20000.000000</td>\n      <td>20000.000000</td>\n    </tr>\n    <tr>\n      <th>mean</th>\n      <td>1.892380e+07</td>\n      <td>6.746034e+07</td>\n      <td>40.728455</td>\n      <td>-73.952125</td>\n      <td>153.269050</td>\n      <td>6.992100</td>\n      <td>23.274100</td>\n      <td>1.377446</td>\n      <td>6.955450</td>\n      <td>112.901200</td>\n    </tr>\n    <tr>\n      <th>std</th>\n      <td>1.101223e+07</td>\n      <td>7.857936e+07</td>\n      <td>0.054755</td>\n      <td>0.046559</td>\n      <td>243.325609</td>\n      <td>21.645449</td>\n      <td>44.927793</td>\n      <td>1.683006</td>\n      <td>32.433831</td>\n      <td>131.762226</td>\n    </tr>\n    <tr>\n      <th>min</th>\n      <td>2.539000e+03</td>\n      <td>2.571000e+03</td>\n      <td>40.508730</td>\n      <td>-74.239140</td>\n      <td>0.000000</td>\n      <td>1.000000</td>\n      <td>0.000000</td>\n      <td>0.010000</td>\n      <td>1.000000</td>\n      <td>0.000000</td>\n    </tr>\n    <tr>\n      <th>25%</th>\n      <td>9.393540e+06</td>\n      <td>7.853718e+06</td>\n      <td>40.689420</td>\n      <td>-73.983030</td>\n      <td>69.000000</td>\n      <td>1.000000</td>\n      <td>1.000000</td>\n      <td>0.190000</td>\n      <td>1.000000</td>\n      <td>0.000000</td>\n    </tr>\n    <tr>\n      <th>50%</th>\n      <td>1.952117e+07</td>\n      <td>3.111431e+07</td>\n      <td>40.722730</td>\n      <td>-73.955640</td>\n      <td>105.000000</td>\n      <td>2.000000</td>\n      <td>5.000000</td>\n      <td>0.720000</td>\n      <td>1.000000</td>\n      <td>44.000000</td>\n    </tr>\n    <tr>\n      <th>75%</th>\n      <td>2.912936e+07</td>\n      <td>1.068426e+08</td>\n      <td>40.762990</td>\n      <td>-73.936380</td>\n      <td>175.000000</td>\n      <td>5.000000</td>\n      <td>23.000000</td>\n      <td>2.010000</td>\n      <td>2.000000</td>\n      <td>229.000000</td>\n    </tr>\n    <tr>\n      <th>max</th>\n      <td>3.648561e+07</td>\n      <td>2.742733e+08</td>\n      <td>40.913060</td>\n      <td>-73.717950</td>\n      <td>10000.000000</td>\n      <td>1250.000000</td>\n      <td>607.000000</td>\n      <td>27.950000</td>\n      <td>327.000000</td>\n      <td>365.000000</td>\n    </tr>\n  </tbody>\n</table>\n</div>"
     },
     "execution_count": 4,
     "metadata": {},
     "output_type": "execute_result"
    }
   ],
   "source": [
    "df.describe()"
   ]
  },
  {
   "cell_type": "code",
   "execution_count": 5,
   "id": "13548f59",
   "metadata": {
    "ExecuteTime": {
     "end_time": "2024-04-18T03:15:00.809695Z",
     "start_time": "2024-04-18T03:15:00.788751Z"
    }
   },
   "outputs": [
    {
     "data": {
      "text/plain": "         id                                               name    host_id  \\\n0   9138664                Private Lg Room 15 min to Manhattan   47594947   \n1  31444015  TIME SQUARE CHARMING ONE BED IN HELL'S KITCHEN...    8523790   \n2   8741020  Voted #1 Location Quintessential 1BR W Village...   45854238   \n3  34602077  Spacious 1 bedroom apartment 15min from Manhattan  261055465   \n4  23203149   Big beautiful bedroom in huge Bushwick apartment     143460   \n\n  host_name neighbourhood_group   neighbourhood  latitude  longitude  \\\n0      Iris              Queens       Sunnyside  40.74271  -73.92493   \n1    Johlex           Manhattan  Hell's Kitchen  40.76682  -73.98878   \n2      John           Manhattan    West Village  40.73631  -74.00611   \n3     Regan              Queens         Astoria  40.76424  -73.92351   \n4     Megan            Brooklyn        Bushwick  40.69839  -73.92044   \n\n         room_type  price  minimum_nights  number_of_reviews last_review  \\\n0     Private room     74               2                  6  2019-05-26   \n1  Entire home/apt    170               3                  0         NaN   \n2  Entire home/apt    245               3                 51  2018-09-19   \n3  Entire home/apt    125               3                  1  2019-05-24   \n4     Private room     65               2                  8  2019-06-23   \n\n   reviews_per_month  calculated_host_listings_count  availability_365  \n0               0.13                               1                 5  \n1                NaN                               1               188  \n2               1.12                               1                 0  \n3               0.65                               1                13  \n4               0.52                               2                 8  ",
      "text/html": "<div>\n<style scoped>\n    .dataframe tbody tr th:only-of-type {\n        vertical-align: middle;\n    }\n\n    .dataframe tbody tr th {\n        vertical-align: top;\n    }\n\n    .dataframe thead th {\n        text-align: right;\n    }\n</style>\n<table border=\"1\" class=\"dataframe\">\n  <thead>\n    <tr style=\"text-align: right;\">\n      <th></th>\n      <th>id</th>\n      <th>name</th>\n      <th>host_id</th>\n      <th>host_name</th>\n      <th>neighbourhood_group</th>\n      <th>neighbourhood</th>\n      <th>latitude</th>\n      <th>longitude</th>\n      <th>room_type</th>\n      <th>price</th>\n      <th>minimum_nights</th>\n      <th>number_of_reviews</th>\n      <th>last_review</th>\n      <th>reviews_per_month</th>\n      <th>calculated_host_listings_count</th>\n      <th>availability_365</th>\n    </tr>\n  </thead>\n  <tbody>\n    <tr>\n      <th>0</th>\n      <td>9138664</td>\n      <td>Private Lg Room 15 min to Manhattan</td>\n      <td>47594947</td>\n      <td>Iris</td>\n      <td>Queens</td>\n      <td>Sunnyside</td>\n      <td>40.74271</td>\n      <td>-73.92493</td>\n      <td>Private room</td>\n      <td>74</td>\n      <td>2</td>\n      <td>6</td>\n      <td>2019-05-26</td>\n      <td>0.13</td>\n      <td>1</td>\n      <td>5</td>\n    </tr>\n    <tr>\n      <th>1</th>\n      <td>31444015</td>\n      <td>TIME SQUARE CHARMING ONE BED IN HELL'S KITCHEN...</td>\n      <td>8523790</td>\n      <td>Johlex</td>\n      <td>Manhattan</td>\n      <td>Hell's Kitchen</td>\n      <td>40.76682</td>\n      <td>-73.98878</td>\n      <td>Entire home/apt</td>\n      <td>170</td>\n      <td>3</td>\n      <td>0</td>\n      <td>NaN</td>\n      <td>NaN</td>\n      <td>1</td>\n      <td>188</td>\n    </tr>\n    <tr>\n      <th>2</th>\n      <td>8741020</td>\n      <td>Voted #1 Location Quintessential 1BR W Village...</td>\n      <td>45854238</td>\n      <td>John</td>\n      <td>Manhattan</td>\n      <td>West Village</td>\n      <td>40.73631</td>\n      <td>-74.00611</td>\n      <td>Entire home/apt</td>\n      <td>245</td>\n      <td>3</td>\n      <td>51</td>\n      <td>2018-09-19</td>\n      <td>1.12</td>\n      <td>1</td>\n      <td>0</td>\n    </tr>\n    <tr>\n      <th>3</th>\n      <td>34602077</td>\n      <td>Spacious 1 bedroom apartment 15min from Manhattan</td>\n      <td>261055465</td>\n      <td>Regan</td>\n      <td>Queens</td>\n      <td>Astoria</td>\n      <td>40.76424</td>\n      <td>-73.92351</td>\n      <td>Entire home/apt</td>\n      <td>125</td>\n      <td>3</td>\n      <td>1</td>\n      <td>2019-05-24</td>\n      <td>0.65</td>\n      <td>1</td>\n      <td>13</td>\n    </tr>\n    <tr>\n      <th>4</th>\n      <td>23203149</td>\n      <td>Big beautiful bedroom in huge Bushwick apartment</td>\n      <td>143460</td>\n      <td>Megan</td>\n      <td>Brooklyn</td>\n      <td>Bushwick</td>\n      <td>40.69839</td>\n      <td>-73.92044</td>\n      <td>Private room</td>\n      <td>65</td>\n      <td>2</td>\n      <td>8</td>\n      <td>2019-06-23</td>\n      <td>0.52</td>\n      <td>2</td>\n      <td>8</td>\n    </tr>\n  </tbody>\n</table>\n</div>"
     },
     "execution_count": 5,
     "metadata": {},
     "output_type": "execute_result"
    }
   ],
   "source": [
    "df.head()"
   ]
  },
  {
   "cell_type": "markdown",
   "id": "ecfee692",
   "metadata": {},
   "source": [
    "3. What do you notice in the data? Look around and see what you can find.\n",
    "\n",
    "> For example, there are missing values in a few columns and the column `last_review` is a date but it is in string format. Look also at the `price` column, and note the outliers. There are some zeros and some very high prices. After talking to your stakeholders, you decide to consider from a minimum of `$10` to a maximum of `$350` per night."
   ]
  },
  {
   "cell_type": "markdown",
   "id": "b4bb415f",
   "metadata": {},
   "source": [
    "4. Fix some of the little problems we have found in the data with the following code:"
   ]
  },
  {
   "cell_type": "code",
   "execution_count": 6,
   "id": "4d685317",
   "metadata": {
    "ExecuteTime": {
     "end_time": "2024-04-18T03:15:11.808490Z",
     "start_time": "2024-04-18T03:15:11.785759Z"
    }
   },
   "outputs": [],
   "source": [
    "# Drop outliers\n",
    "min_price = 10\n",
    "max_price = 350\n",
    "idx = df['price'].between(min_price, max_price)\n",
    "df = df[idx].copy()\n",
    "# Convert last_review to datetime\n",
    "df['last_review'] = pd.to_datetime(df['last_review'])"
   ]
  },
  {
   "cell_type": "markdown",
   "id": "17990df4",
   "metadata": {},
   "source": [
    "Note how we did not impute missing values. We will do that in the inference pipeline, so we will be able to handle missing values also in production."
   ]
  },
  {
   "cell_type": "markdown",
   "id": "09287f29",
   "metadata": {},
   "source": [
    "5. Check with df.info() that all obvious problems have been solved"
   ]
  },
  {
   "cell_type": "code",
   "execution_count": 7,
   "id": "b83b4970",
   "metadata": {
    "ExecuteTime": {
     "end_time": "2024-04-18T03:15:18.086062Z",
     "start_time": "2024-04-18T03:15:18.070345Z"
    }
   },
   "outputs": [
    {
     "name": "stdout",
     "output_type": "stream",
     "text": [
      "<class 'pandas.core.frame.DataFrame'>\n",
      "Index: 19001 entries, 0 to 19999\n",
      "Data columns (total 16 columns):\n",
      " #   Column                          Non-Null Count  Dtype         \n",
      "---  ------                          --------------  -----         \n",
      " 0   id                              19001 non-null  int64         \n",
      " 1   name                            18994 non-null  object        \n",
      " 2   host_id                         19001 non-null  int64         \n",
      " 3   host_name                       18993 non-null  object        \n",
      " 4   neighbourhood_group             19001 non-null  object        \n",
      " 5   neighbourhood                   19001 non-null  object        \n",
      " 6   latitude                        19001 non-null  float64       \n",
      " 7   longitude                       19001 non-null  float64       \n",
      " 8   room_type                       19001 non-null  object        \n",
      " 9   price                           19001 non-null  int64         \n",
      " 10  minimum_nights                  19001 non-null  int64         \n",
      " 11  number_of_reviews               19001 non-null  int64         \n",
      " 12  last_review                     15243 non-null  datetime64[ns]\n",
      " 13  reviews_per_month               15243 non-null  float64       \n",
      " 14  calculated_host_listings_count  19001 non-null  int64         \n",
      " 15  availability_365                19001 non-null  int64         \n",
      "dtypes: datetime64[ns](1), float64(3), int64(7), object(5)\n",
      "memory usage: 2.5+ MB\n"
     ]
    }
   ],
   "source": [
    "df.info()"
   ]
  },
  {
   "cell_type": "markdown",
   "id": "d727e697",
   "metadata": {},
   "source": [
    "6. Terminate the run by running `run.finish()`"
   ]
  },
  {
   "cell_type": "code",
   "execution_count": 8,
   "id": "48b38586",
   "metadata": {
    "ExecuteTime": {
     "end_time": "2024-04-18T03:15:28.710813Z",
     "start_time": "2024-04-18T03:15:22.893078Z"
    }
   },
   "outputs": [
    {
     "data": {
      "text/plain": "VBox(children=(Label(value='0.120 MB of 0.120 MB uploaded\\r'), FloatProgress(value=1.0, max=1.0)))",
      "application/vnd.jupyter.widget-view+json": {
       "version_major": 2,
       "version_minor": 0,
       "model_id": "12af085fd5324290b851faef0ce98ec7"
      }
     },
     "metadata": {},
     "output_type": "display_data"
    },
    {
     "data": {
      "text/plain": "<IPython.core.display.HTML object>",
      "text/html": " View run <strong style=\"color:#cdcd00\">denim-water-4</strong> at: <a href='https://wandb.ai/emolitor/nyc_airbnb/runs/n7o9xeen' target=\"_blank\">https://wandb.ai/emolitor/nyc_airbnb/runs/n7o9xeen</a><br/> View project at: <a href='https://wandb.ai/emolitor/nyc_airbnb' target=\"_blank\">https://wandb.ai/emolitor/nyc_airbnb</a><br/>Synced 6 W&B file(s), 0 media file(s), 3 artifact file(s) and 1 other file(s)"
     },
     "metadata": {},
     "output_type": "display_data"
    },
    {
     "data": {
      "text/plain": "<IPython.core.display.HTML object>",
      "text/html": "Find logs at: <code>./wandb/run-20240417_221412-n7o9xeen/logs</code>"
     },
     "metadata": {},
     "output_type": "display_data"
    }
   ],
   "source": [
    "run.finish()"
   ]
  },
  {
   "cell_type": "markdown",
   "id": "13f82b21",
   "metadata": {},
   "source": [
    "7. Save the notebook."
   ]
  },
  {
   "cell_type": "code",
   "outputs": [],
   "source": [],
   "metadata": {
    "collapsed": false
   },
   "id": "17378795c529bba4"
  }
 ],
 "metadata": {
  "kernelspec": {
   "display_name": "Python 3 (ipykernel)",
   "language": "python",
   "name": "python3"
  },
  "language_info": {
   "codemirror_mode": {
    "name": "ipython",
    "version": 3
   },
   "file_extension": ".py",
   "mimetype": "text/x-python",
   "name": "python",
   "nbconvert_exporter": "python",
   "pygments_lexer": "ipython3",
   "version": "3.9.15"
  }
 },
 "nbformat": 4,
 "nbformat_minor": 5
}
